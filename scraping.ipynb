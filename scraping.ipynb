{
 "cells": [
  {
   "cell_type": "code",
   "execution_count": 2,
   "id": "julian-teacher",
   "metadata": {},
   "outputs": [],
   "source": [
    "import pandas as pd\n",
    "import requests\n",
    "import bs4"
   ]
  },
  {
   "cell_type": "code",
   "execution_count": 3,
   "id": "hybrid-associate",
   "metadata": {},
   "outputs": [],
   "source": [
    "url = 'https://webscraper.io/test-sites/e-commerce/allinone/computers'"
   ]
  },
  {
   "cell_type": "code",
   "execution_count": 5,
   "id": "adjustable-influence",
   "metadata": {},
   "outputs": [],
   "source": [
    "page = requests.get(url)"
   ]
  },
  {
   "cell_type": "code",
   "execution_count": 6,
   "id": "received-school",
   "metadata": {},
   "outputs": [
    {
     "data": {
      "text/plain": [
       "<Response [200]>"
      ]
     },
     "execution_count": 6,
     "metadata": {},
     "output_type": "execute_result"
    }
   ],
   "source": [
    "page"
   ]
  },
  {
   "cell_type": "code",
   "execution_count": 54,
   "id": "agreed-support",
   "metadata": {},
   "outputs": [
    {
     "data": {
      "text/plain": [
       "<?xml version=\"1.0\" encoding=\"utf-8\"?>\n",
       "<!DOCTYPE html>\n",
       "<html lang=\"en\">\n",
       "<head>\n",
       "<!-- Anti-flicker snippet (recommended)  -->\n",
       "<style>.async-hide {\n",
       "\t\topacity: 0 !important\n",
       "\t} </style>\n",
       "<script>(function (a, s, y, n, c, h, i, d, e) {\n",
       "\t\ts.className += ' ' + y;\n",
       "\t\th.start = 1 * new Date;\n",
       "\t\th.end = i = function () {\n",
       "\t\t\ts.className = s.className.replace(RegExp(' ?' + y), '')\n",
       "\t\t};\n",
       "\t\t(a[n] = a[n] || []).hide = h;\n",
       "\t\tsetTimeout(function () {\n",
       "\t\t\ti();\n",
       "\t\t\th.end = null\n",
       "\t\t}, c);\n",
       "\t\th.timeout = c;\n",
       "\t})(window, document.documentElement, 'async-hide', 'dataLayer', 4000,\n",
       "\t\t{'GTM-NVFPDWB': true});</script>\n",
       "<!-- Google Tag Manager -->\n",
       "<script>(function (w, d, s, l, i) {\n",
       "\t\tw[l] = w[l] || [];\n",
       "\t\tw[l].push({\n",
       "\t\t\t'gtm.start':\n",
       "\t\t\t\tnew Date().getTime(), event: 'gtm.js'\n",
       "\t\t});\n",
       "\t\tvar f = d.getElementsByTagName(s)[0],\n",
       "\t\t\tj = d.createElement(s), dl = l != 'dataLayer' ? '=' + l : '';\n",
       "\t\tj.async = true;\n",
       "\t\tj.src =\n",
       "\t\t\t'https://www.googletagmanager.com/gtm.js?id=' + i + dl;\n",
       "\t\tf.parentNode.insertBefore(j, f);\n",
       "\t})(window, document, 'script', 'dataLayer', 'GTM-NVFPDWB');</script>\n",
       "<!-- End Google Tag Manager -->\n",
       "<title>Web Scraper Test Sites</title>\n",
       "<meta charset=\"utf-8\">\n",
       "<meta content=\"IE=edge,chrome=1\" http-equiv=\"X-UA-Compatible\">\n",
       "<meta content=\"web scraping,Web Scraper,Chrome extension,Crawling,Cross platform scraper\" name=\"keywords\"/>\n",
       "<meta content=\"The most popular web scraping extension. Start scraping in minutes. Automate your tasks with our Cloud Scraper. No software to download, no coding needed.\" name=\"description\"/>\n",
       "<link href=\"/favicon.png\" rel=\"icon\" sizes=\"128x128\">\n",
       "<meta content=\"width=device-width, initial-scale=1.0\" name=\"viewport\">\n",
       "<link href=\"/css/app.css?id=e4de8db16b64e604046e\" rel=\"stylesheet\">\n",
       "<link href=\"https://webscraper.io/test-sites/e-commerce/allinone/computers\" rel=\"canonical\">\n",
       "<link href=\"/img/logo-icon.png\" rel=\"apple-touch-icon\">\n",
       "<script>src=\"/js/app.js?id=e64f07a3ce1d466cf04c\"&gt;</script>\n",
       "</link>\n",
       "<body>\n",
       "<!-- Google Tag Manager (noscript) -->\n",
       "<noscript>\n",
       "<iframe height=\"0\" src=\"https://www.googletagmanager.com/ns.html?id=GTM-NVFPDWB\" style=\"display:none;visibility:hidden\" width=\"0\"/>\n",
       "</noscript>\n",
       "<!-- End Google Tag Manager (noscript) -->\n",
       "<header class=\"navbar navbar-fixed-top navbar-static\" role=\"banner\">\n",
       "<div class=\"container\">\n",
       "<div class=\"navbar-header\">\n",
       "<a data-target=\".side-collapse\" data-target-2=\".side-collapse-container\" data-toggle=\"collapse-side\">\n",
       "<button aria-controls=\"navbar\" aria-expanded=\"false\" class=\"navbar-toggle pull-right collapsed\" data-target=\"#navbar\" data-target-2=\".side-collapse-container\" data-target-3=\".side-collapse\" data-toggle=\"collapse\" type=\"button\">\n",
       "<span class=\"sr-only\">Toggle navigation</span>\n",
       "<span class=\"icon-bar top-bar\"/>\n",
       "<span class=\"icon-bar middle-bar\"/>\n",
       "<span class=\"icon-bar bottom-bar\"/>\n",
       "</button>\n",
       "</a>\n",
       "<div class=\"navbar-brand\">\n",
       "<a href=\"/\"><img alt=\"Web Scraper\" src=\"/img/logo_white.svg\"/>\n",
       "</a>\n",
       "</div>\n",
       "<div class=\"side-collapse in\">\n",
       "<nav class=\"navbar-collapse collapse\" id=\"navbar\" role=\"navigation\">\n",
       "<ul class=\"nav navbar-nav navbar-right\">\n",
       "<li class=\"hidden\">\n",
       "<a href=\"#page-top\"/>\n",
       "</li>\n",
       "<li>\n",
       "<a class=\"menuitm\" href=\"/\">\n",
       "<p>Web Scraper</p>\n",
       "<div class=\"crta\"/>\n",
       "</a>\n",
       "</li>\n",
       "<li>\n",
       "<a class=\"menuitm\" href=\"/cloud-scraper\">\n",
       "<p>Cloud Scraper</p>\n",
       "<div class=\"crta\"/>\n",
       "</a>\n",
       "</li>\n",
       "<li>\n",
       "<a class=\"menuitm\" href=\"/pricing\">\n",
       "<p>Pricing</p>\n",
       "<div class=\"crta\"/>\n",
       "</a>\n",
       "</li>\n",
       "<li class=\"dropdown\">\n",
       "<a class=\"menuitm dropdown-toggle\" data-toggle=\"dropdown\" href=\"#section3\">\n",
       "<p>Learn</p>\n",
       "<div class=\"crta\"/>\n",
       "</a>\n",
       "<ul class=\"dropdown-menu\">\n",
       "<li>\n",
       "<a href=\"/documentation\">Documentation</a>\n",
       "</li>\n",
       "<li>\n",
       "<a href=\"/tutorials\">Video Tutorials</a>\n",
       "</li>\n",
       "<li>\n",
       "<a href=\"/how-to-videos\">How to</a>\n",
       "</li>\n",
       "<li>\n",
       "<a href=\"/test-sites\">Test Sites</a>\n",
       "</li>\n",
       "<li>\n",
       "<a href=\"https://forum.webscraper.io/\" rel=\"noopener\" target=\"_blank\">Forum</a>\n",
       "</li>\n",
       "</ul>\n",
       "</li>\n",
       "<li>\n",
       "<a class=\"btn-menu1 install-extension\" href=\"https://chrome.google.com/webstore/detail/web-scraper/jnhgnonknehpejjnehehllkliplmbmhn?hl=en\" rel=\"noopener\" target=\"_blank\">Install</a>\n",
       "</li>\n",
       "<li>\n",
       "<a class=\"btn-menu2\" href=\"https://cloud.webscraper.io/\">Login</a>\n",
       "</li>\n",
       "</ul>\n",
       "</nav>\n",
       "</div>\n",
       "</div>\n",
       "</div>\n",
       "<div class=\"wrapper\">\n",
       "<div class=\"formenu-here container-fluid\">\n",
       "</div>\n",
       "<div class=\"container-fluid blog-hero\">\n",
       "<div class=\"container\">\n",
       "<div class=\"row\">\n",
       "<div class=\"col-md-12\">\n",
       "<h1>Test Sites</h1>\n",
       "</div>\n",
       "</div>\n",
       "</div>\n",
       "</div>\n",
       "<div class=\"container test-site\">\n",
       "<div class=\"row\">\n",
       "<div class=\"col-md-3 sidebar\">\n",
       "<div class=\"navbar-default sidebar\" role=\"navigation\">\n",
       "<div class=\"sidebar-nav navbar-collapse\">\n",
       "<ul class=\"nav\" id=\"side-menu\">\n",
       "<li>\n",
       "<a href=\"/test-sites/e-commerce/allinone\">Home</a>\n",
       "</li>\n",
       "<li class=\"active\">\n",
       "<a class=\"category-link  active \" href=\"/test-sites/e-commerce/allinone/computers\">\n",
       "\t\t\t\t\tComputers\n",
       "\t\t\t\t\t<span class=\"fa arrow\"/>\n",
       "</a>\n",
       "<ul class=\"nav nav-second-level collapse in\">\n",
       "<li>\n",
       "<a class=\"subcategory-link \" href=\"/test-sites/e-commerce/allinone/computers/laptops\">\n",
       "\t\t\t\t\t\t\tLaptops\n",
       "\t\t\t\t\t\t</a>\n",
       "</li>\n",
       "<li>\n",
       "<a class=\"subcategory-link \" href=\"/test-sites/e-commerce/allinone/computers/tablets\">\n",
       "\t\t\t\t\t\t\tTablets\n",
       "\t\t\t\t\t\t</a>\n",
       "</li>\n",
       "</ul>\n",
       "</li>\n",
       "<li>\n",
       "<a class=\"category-link \" href=\"/test-sites/e-commerce/allinone/phones\">\n",
       "\t\t\t\t\tPhones\n",
       "\t\t\t\t\t<span class=\"fa arrow\"/>\n",
       "</a>\n",
       "</li>\n",
       "</ul>\n",
       "</div>\n",
       "</div>\n",
       "</div>\n",
       "<div class=\"col-md-9\">\n",
       "<h1 class=\"page-header\">Computers category</h1>\n",
       "<h2>Top items being scraped right now</h2>\n",
       "<div class=\"row\">\n",
       "<div class=\"col-sm-4 col-lg-4 col-md-4\">\n",
       "<div class=\"thumbnail\">\n",
       "<img alt=\"item\" class=\"img-responsive\" src=\"/images/test-sites/e-commerce/items/cart2.png\">\n",
       "<div class=\"caption\">\n",
       "<h4 class=\"pull-right price\">$410.46</h4>\n",
       "<h4>\n",
       "<a class=\"title\" href=\"/test-sites/e-commerce/allinone/product/560\" title=\"Acer Aspire ES1-732 Black\">Acer Aspire ES1-...</a>\n",
       "</h4>\n",
       "<p class=\"description\">Acer Aspire ES1-732 Black, 17.3 HD+, Celeron, N3350, 4GB, 1TB, Windows 10 Home</p>\n",
       "</div>\n",
       "<div class=\"ratings\">\n",
       "<p class=\"pull-right\">14 reviews</p>\n",
       "<p data-rating=\"4\">\n",
       "<span class=\"glyphicon glyphicon-star\"/>\n",
       "<span class=\"glyphicon glyphicon-star\"/>\n",
       "<span class=\"glyphicon glyphicon-star\"/>\n",
       "<span class=\"glyphicon glyphicon-star\"/>\n",
       "</p>\n",
       "</div>\n",
       "</img>\n",
       "</div>\n",
       "<div class=\"col-sm-4 col-lg-4 col-md-4\">\n",
       "<div class=\"thumbnail\">\n",
       "<img alt=\"item\" class=\"img-responsive\" src=\"/images/test-sites/e-commerce/items/cart2.png\">\n",
       "<div class=\"caption\">\n",
       "<h4 class=\"pull-right price\">$69.99</h4>\n",
       "<h4>\n",
       "<a class=\"title\" href=\"/test-sites/e-commerce/allinone/product/495\" title=\"Lenovo IdeaTab\">Lenovo IdeaTab</a>\n",
       "</h4>\n",
       "<p class=\"description\">7 screen, Android</p>\n",
       "</div>\n",
       "<div class=\"ratings\">\n",
       "<p class=\"pull-right\">7 reviews</p>\n",
       "<p data-rating=\"3\">\n",
       "<span class=\"glyphicon glyphicon-star\"/>\n",
       "<span class=\"glyphicon glyphicon-star\"/>\n",
       "<span class=\"glyphicon glyphicon-star\"/>\n",
       "</p>\n",
       "</div>\n",
       "</img>\n",
       "</div>\n",
       "<div class=\"col-sm-4 col-lg-4 col-md-4\">\n",
       "<div class=\"thumbnail\">\n",
       "<img alt=\"item\" class=\"img-responsive\" src=\"/images/test-sites/e-commerce/items/cart2.png\">\n",
       "<div class=\"caption\">\n",
       "<h4 class=\"pull-right price\">$1238.37</h4>\n",
       "<h4>\n",
       "<a class=\"title\" href=\"/test-sites/e-commerce/allinone/product/613\" title=\"Dell Latitude 5480\">Dell Latitude 54...</a>\n",
       "</h4>\n",
       "<p class=\"description\">Dell Latitude 5480, 14 FHD, Core i7-7600U, 8GB, 256GB SSD, Linux</p>\n",
       "</div>\n",
       "<div class=\"ratings\">\n",
       "<p class=\"pull-right\">0 reviews</p>\n",
       "<p data-rating=\"2\">\n",
       "<span class=\"glyphicon glyphicon-star\"/>\n",
       "<span class=\"glyphicon glyphicon-star\"/>\n",
       "</p>\n",
       "</div>\n",
       "</img>\n",
       "</div>\n",
       "</div>\n",
       "</div>\n",
       "</div>\n",
       "</div>\n",
       "<div class=\"clearfix\"/>\n",
       "<div class=\"push\"/>\n",
       "</div>\n",
       "<div class=\"container-fluid footer\" id=\"layout-footer\">\n",
       "<div class=\"container\">\n",
       "<div class=\"row\">\n",
       "<div class=\"col-md-3\">\n",
       "<ul>\n",
       "<li><p>Products</p></li>\n",
       "<li>\n",
       "<a href=\"/\">Web Scraper browser extension</a>\n",
       "</li>\n",
       "<li>\n",
       "<a href=\"/pricing\">Web Scraper Cloud</a>\n",
       "</li>\n",
       "</ul>\n",
       "</div>\n",
       "<div class=\"col-md-3\">\n",
       "<ul>\n",
       "<li><p>Company</p></li>\n",
       "<li><a href=\"/contact\">Contact</a>\n",
       "</li>\n",
       "<li>\n",
       "<a href=\"/privacy-policy\">Website Privacy Policy</a>\n",
       "</li>\n",
       "<li>\n",
       "<a href=\"/extension-privacy-policy\">Browser Extension Privacy Policy</a>\n",
       "</li>\n",
       "<li>\n",
       "<a href=\"http://webscraperio.us-east-1.elasticbeanstalk.com/downloads/Web_Scraper_Media_Kit.zip\">Media kit</a>\n",
       "</li>\n",
       "<li><a href=\"/jobs\">Jobs</a></li>\n",
       "</ul>\n",
       "</div>\n",
       "<div class=\"col-md-3\">\n",
       "<ul>\n",
       "<li><p>Resources</p></li>\n",
       "<li><a href=\"/blog\">Blog</a></li>\n",
       "<li>\n",
       "<a href=\"/documentation\">Documentation</a>\n",
       "</li>\n",
       "<li>\n",
       "<a href=\"/tutorials\">Video Tutorials</a>\n",
       "</li>\n",
       "<li>\n",
       "<a href=\"/screenshots\">Screenshots</a>\n",
       "</li>\n",
       "<li>\n",
       "<a href=\"/test-sites\">Test Sites</a>\n",
       "</li>\n",
       "<li>\n",
       "<a href=\"https://forum.webscraper.io/\" rel=\"noopener\" target=\"_blank\">Forum</a>\n",
       "</li>\n",
       "</ul>\n",
       "</div>\n",
       "<div class=\"col-md-3\">\n",
       "<ul>\n",
       "<li><p>CONTACT US</p></li>\n",
       "<li>\n",
       "<a href=\"mailto:info@webscraper.io\">info@webscraper.io</a>\n",
       "</li>\n",
       "<li>Rupniecibas iela 30,<br> Riga, Latvia, LV-1045</br>\n",
       "</li>\n",
       "<ul class=\"smedia\">\n",
       "<li>\n",
       "<a href=\"https://www.facebook.com/webscraperio/\" rel=\"noopener\" target=\"_blank\"><img alt=\"Web Scraper on Facebook\" src=\"/img/fbicon.png\"/>\n",
       "</a>\n",
       "<li>\n",
       "<a href=\"https://twitter.com/webscraperio\" rel=\"noopener\" target=\"_blank\"><img alt=\"Web Scraper on Twitter\" src=\"/img/twicon.png\"/>\n",
       "</a>\n",
       "</li>\n",
       "</li>\n",
       "</ul>\n",
       "<div class=\"row\">\n",
       "<div class=\"col-md-12\">\n",
       "<p class=\"copyright\">Copyright  2021\n",
       "\t\t\t\t\t<a href=\"#\">Web Scraper</a> | All rights\n",
       "\t\t\t\t\treserved | Made by zoom59</p>\n",
       "</div>\n",
       "</div>\n",
       "</ul>\n",
       "</div>\n",
       "</div>\n",
       "</div></div></div></div></div></header></body></link></link></meta></link></meta></meta></head></html>"
      ]
     },
     "execution_count": 54,
     "metadata": {},
     "output_type": "execute_result"
    }
   ],
   "source": [
    "soup = bs4.BeautifulSoup(page.text,'xml')\n",
    "soup"
   ]
  },
  {
   "cell_type": "code",
   "execution_count": 11,
   "id": "ongoing-contents",
   "metadata": {},
   "outputs": [],
   "source": [
    "Heading = soup.find(attrs={'class':'page-header'}).text"
   ]
  },
  {
   "cell_type": "code",
   "execution_count": 12,
   "id": "miniature-climb",
   "metadata": {},
   "outputs": [
    {
     "data": {
      "text/plain": [
       "'Computers category'"
      ]
     },
     "execution_count": 12,
     "metadata": {},
     "output_type": "execute_result"
    }
   ],
   "source": [
    "Heading"
   ]
  },
  {
   "cell_type": "code",
   "execution_count": 16,
   "id": "seasonal-wales",
   "metadata": {},
   "outputs": [],
   "source": [
    "itemname = soup.find(attrs={'class':'title'}).text"
   ]
  },
  {
   "cell_type": "code",
   "execution_count": 17,
   "id": "frank-angola",
   "metadata": {},
   "outputs": [
    {
     "data": {
      "text/plain": [
       "<a class=\"title\" href=\"/test-sites/e-commerce/allinone/product/560\" title=\"Acer Aspire ES1-732 Black\">Acer Aspire ES1-...</a>"
      ]
     },
     "execution_count": 17,
     "metadata": {},
     "output_type": "execute_result"
    }
   ],
   "source": [
    "itemname"
   ]
  },
  {
   "cell_type": "code",
   "execution_count": 18,
   "id": "initial-mobility",
   "metadata": {},
   "outputs": [],
   "source": [
    "description = soup.find(attrs={'class':'description'}).text"
   ]
  },
  {
   "cell_type": "code",
   "execution_count": 19,
   "id": "actual-weather",
   "metadata": {},
   "outputs": [
    {
     "data": {
      "text/plain": [
       "'Acer Aspire ES1-732 Black, 17.3 HD+, Celeron, N3350, 4GB, 1TB, Windows 10 Home'"
      ]
     },
     "execution_count": 19,
     "metadata": {},
     "output_type": "execute_result"
    }
   ],
   "source": [
    "description"
   ]
  },
  {
   "cell_type": "code",
   "execution_count": 31,
   "id": "adjustable-frederick",
   "metadata": {},
   "outputs": [],
   "source": [
    "price=float(soup.find(attrs={'class':'pull-right price'}).text.replace('$',' '))"
   ]
  },
  {
   "cell_type": "code",
   "execution_count": 32,
   "id": "valuable-fishing",
   "metadata": {},
   "outputs": [
    {
     "data": {
      "text/plain": [
       "410.46"
      ]
     },
     "execution_count": 32,
     "metadata": {},
     "output_type": "execute_result"
    }
   ],
   "source": [
    "price"
   ]
  },
  {
   "cell_type": "code",
   "execution_count": 67,
   "id": "prepared-headline",
   "metadata": {},
   "outputs": [
    {
     "data": {
      "text/plain": [
       "'HomeComputersLaptopsTabletsPhonesComputers categoryTop items being scraped right now$410.46Acer Aspire ES1-...Acer Aspire ES1-732 Black, 17.3 HD+, Celeron, N3350, 4GB, 1TB, Windows 10 Home14 reviews$69.99Lenovo IdeaTab7 screen, Android7 reviews$1238.37Dell Latitude 54...Dell Latitude 5480, 14 FHD, Core i7-7600U, 8GB, 256GB SSD, Linux0 reviewsProductsWeb Scraper browser extensionWeb Scraper CloudCompanyContactWebsite Privacy PolicyBrowser Extension Privacy PolicyMedia kitJobsResourcesBlogDocumentationVideo TutorialsScreenshotsTest SitesForumCONTACT USinfo@webscraper.ioRupniecibas iela 30, Riga, Latvia, LV-1045Copyright  2021Web Scraper | All rightsreserved | Made by zoom59'"
      ]
     },
     "execution_count": 67,
     "metadata": {},
     "output_type": "execute_result"
    }
   ],
   "source": [
    "a = soup.findAll(attrs={'class':'row'})\n",
    "a[1].text.replace('\\n','').replace('\\t','')"
   ]
  },
  {
   "cell_type": "code",
   "execution_count": 92,
   "id": "optimum-dependence",
   "metadata": {},
   "outputs": [],
   "source": [
    "data = [[Heading,itemname,description,price]]\n",
    "for i in range(4):\n",
    "    url = 'https://webscraper.io/test-sites/e-commerce/allinone/computers'\n",
    "    page = requests.get(url)\n",
    "    soup = bs4.BeautifulSoup(page.content,'lxml')\n",
    "    itemname = soup.find(attrs={'class':'title'}).text\n",
    "    Heading = soup.find(attrs={'class':'page-header'}).text    \n",
    "    description = soup.find(attrs={'class':'description'}).text\n",
    "    price=float(soup.find(attrs={'class':'pull-right price'}).text.replace('$',' '))\n",
    "    \n",
    "    data.insert(i,[Heading,itemname,description,price])\n",
    "    df = pd.DataFrame(data,columns=['Heading','itemname','description','price'])\n",
    "df.to_csv('read-data.csv')\n",
    "\n",
    "    \n",
    "    \n",
    "        "
   ]
  },
  {
   "cell_type": "code",
   "execution_count": null,
   "id": "imposed-convertible",
   "metadata": {},
   "outputs": [],
   "source": []
  }
 ],
 "metadata": {
  "kernelspec": {
   "display_name": "Python 3",
   "language": "python",
   "name": "python3"
  },
  "language_info": {
   "codemirror_mode": {
    "name": "ipython",
    "version": 3
   },
   "file_extension": ".py",
   "mimetype": "text/x-python",
   "name": "python",
   "nbconvert_exporter": "python",
   "pygments_lexer": "ipython3",
   "version": "3.9.2"
  }
 },
 "nbformat": 4,
 "nbformat_minor": 5
}
